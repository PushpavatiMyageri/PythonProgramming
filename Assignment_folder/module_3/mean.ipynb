{
 "cells": [
  {
   "cell_type": "code",
   "execution_count": 3,
   "metadata": {},
   "outputs": [
    {
     "name": "stdout",
     "output_type": "stream",
     "text": [
      "the average of list values is : 16\n",
      "2\n"
     ]
    }
   ],
   "source": [
    "import statistics\n",
    "list = [1,2,3,3,2,2,2,1]\n",
    "print(\"the average of list values is : \",end = \"\")\n",
    "sum1=0\n",
    "for i in list:\n",
    "    sum1 = sum1+i\n",
    "print(sum1)\n",
    "print(statistics.mean(list))"
   ]
  },
  {
   "cell_type": "code",
   "execution_count": 5,
   "metadata": {},
   "outputs": [
    {
     "name": "stdout",
     "output_type": "stream",
     "text": [
      "the median of list values is : 19.9\n"
     ]
    }
   ],
   "source": [
    "#median\n",
    "import statistics\n",
    "list = [15,19,20.8,21.3]\n",
    "print(\"the median of list values is : \",end = \"\")\n",
    "print(statistics.median(list))\n"
   ]
  },
  {
   "cell_type": "code",
   "execution_count": 6,
   "metadata": {},
   "outputs": [
    {
     "name": "stdout",
     "output_type": "stream",
     "text": [
      "the mode of list values is : 4\n"
     ]
    }
   ],
   "source": [
    "#mode\n",
    "import statistics\n",
    "list = [2,3,4,2,4,6,4,7,7,4,2,4]\n",
    "print(\"the mode of list values is : \",end = \"\")\n",
    "print(statistics.mode(list))\n"
   ]
  },
  {
   "cell_type": "code",
   "execution_count": 7,
   "metadata": {},
   "outputs": [
    {
     "name": "stdout",
     "output_type": "stream",
     "text": [
      "the median_low of list values is : 19\n"
     ]
    }
   ],
   "source": [
    "#median_low\n",
    "import statistics\n",
    "list = [15,19,20.8,21.3]\n",
    "print(\"the median_low of list values is : \",end = \"\")\n",
    "print(statistics.median_low(list))\n"
   ]
  },
  {
   "cell_type": "code",
   "execution_count": 8,
   "metadata": {},
   "outputs": [
    {
     "name": "stdout",
     "output_type": "stream",
     "text": [
      "the median_low of list values is : 20.8\n"
     ]
    }
   ],
   "source": [
    "#median_\n",
    "import statistics\n",
    "list = [15,19,20.8,21.3]\n",
    "print(\"the median_high of list values is : \",end = \"\")\n",
    "print(statistics.median_high(list))"
   ]
  },
  {
   "cell_type": "code",
   "execution_count": 9,
   "metadata": {},
   "outputs": [
    {
     "name": "stdout",
     "output_type": "stream",
     "text": [
      "the variance of list values is : 1.3720238095238095\n"
     ]
    }
   ],
   "source": [
    "#measure of variability\n",
    "#variance\n",
    "import statistics\n",
    "list = [2.75, 1.75, 1.25, 0.25, 0.5, 1.25, 3.5]\n",
    "print(\"the variance of list values is : \",end = \"\")\n",
    "print(statistics.variance(list))\n"
   ]
  },
  {
   "cell_type": "code",
   "execution_count": 10,
   "metadata": {},
   "outputs": [
    {
     "name": "stdout",
     "output_type": "stream",
     "text": [
      "the variance of list values is : 1.1760204081632653\n"
     ]
    }
   ],
   "source": [
    "list = [2.75, 1.75, 1.25, 0.25, 0.5, 1.25, 3.5]\n",
    "print(\"the variance of list values is : \",end = \"\")\n",
    "print(statistics.pvariance(list))"
   ]
  },
  {
   "cell_type": "code",
   "execution_count": null,
   "metadata": {},
   "outputs": [],
   "source": []
  }
 ],
 "metadata": {
  "kernelspec": {
   "display_name": "Python 3.10.5 64-bit",
   "language": "python",
   "name": "python3"
  },
  "language_info": {
   "codemirror_mode": {
    "name": "ipython",
    "version": 3
   },
   "file_extension": ".py",
   "mimetype": "text/x-python",
   "name": "python",
   "nbconvert_exporter": "python",
   "pygments_lexer": "ipython3",
   "version": "3.10.5"
  },
  "orig_nbformat": 4,
  "vscode": {
   "interpreter": {
    "hash": "afb734500600fd355917ca529030176ea0ca205570884b88f2f6f7d791fd3fbe"
   }
  }
 },
 "nbformat": 4,
 "nbformat_minor": 2
}
