{
 "cells": [
  {
   "cell_type": "code",
   "execution_count": 1,
   "metadata": {},
   "outputs": [
    {
     "name": "stdout",
     "output_type": "stream",
     "text": [
      "welcome to python\n"
     ]
    }
   ],
   "source": [
    "#simple function\n",
    "def fun():\n",
    "    print(\"welcome to python\")\n",
    "fun()"
   ]
  },
  {
   "cell_type": "code",
   "execution_count": 2,
   "metadata": {},
   "outputs": [
    {
     "name": "stdout",
     "output_type": "stream",
     "text": [
      "sum of 10 and 20 is 30\n"
     ]
    }
   ],
   "source": [
    "#add 2 numbers\n",
    "def fun(n1,n2):\n",
    "    sum = n1 + n2\n",
    "    print('sum of',n1 ,'and', n2, 'is',sum)\n",
    "a = 10\n",
    "b = 20\n",
    "fun(a,b)"
   ]
  },
  {
   "cell_type": "code",
   "execution_count": 9,
   "metadata": {},
   "outputs": [
    {
     "name": "stdout",
     "output_type": "stream",
     "text": [
      "sum of 0 and 10 is 0\n",
      "10\n",
      "sum of 10 and 20 is 10\n",
      "30\n",
      "sum of 30 and 30 is 30\n",
      "60\n",
      "sum of 60 and 40 is 60\n",
      "100\n",
      "sum of 100 and 50 is 100\n",
      "150\n",
      "sum of 150 and 60 is 150\n",
      "210\n"
     ]
    }
   ],
   "source": [
    "#adding multiple numbers\n",
    "def fun(list1):\n",
    "    result = 0\n",
    "    for index in range(len(list1)):\n",
    "        print('sum of',result ,'and', list1[index], 'is',result)\n",
    "        result = result + list1[index]\n",
    "        print(result)\n",
    "list1 = [10,20,30,40,50,60]\n",
    "fun(list1)"
   ]
  },
  {
   "cell_type": "code",
   "execution_count": 11,
   "metadata": {},
   "outputs": [
    {
     "name": "stdout",
     "output_type": "stream",
     "text": [
      "result of sum of [10, 20, 30, 40, 50, 60] is 210\n"
     ]
    }
   ],
   "source": [
    "#adding multiple numbers\n",
    "def fun(list1):\n",
    "    result = 0\n",
    "    for index in range(len(list1)):\n",
    "        result = result + list1[index]\n",
    "    print('result of sum of',list1,'is',result)\n",
    "list1 = [10,20,30,40,50,60]\n",
    "fun(list1)"
   ]
  },
  {
   "cell_type": "code",
   "execution_count": 12,
   "metadata": {},
   "outputs": [
    {
     "name": "stdout",
     "output_type": "stream",
     "text": [
      "[(10, 'a'), (20, 'b'), (30, 'c')]\n"
     ]
    }
   ],
   "source": [
    "#functions to merge lists as group of 1 name and 1 number\n",
    "def merge_fun(list1,list2):\n",
    "    merged_list = zip(list1,list2)\n",
    "    print(list(merged_list))\n",
    "   \n",
    "list1 = [10,20,30]\n",
    "list2 = ['a','b','c']\n",
    "merge_fun(list1,list2)"
   ]
  }
 ],
 "metadata": {
  "kernelspec": {
   "display_name": "Python 3.10.5 64-bit",
   "language": "python",
   "name": "python3"
  },
  "language_info": {
   "codemirror_mode": {
    "name": "ipython",
    "version": 3
   },
   "file_extension": ".py",
   "mimetype": "text/x-python",
   "name": "python",
   "nbconvert_exporter": "python",
   "pygments_lexer": "ipython3",
   "version": "3.10.5"
  },
  "orig_nbformat": 4,
  "vscode": {
   "interpreter": {
    "hash": "afb734500600fd355917ca529030176ea0ca205570884b88f2f6f7d791fd3fbe"
   }
  }
 },
 "nbformat": 4,
 "nbformat_minor": 2
}
