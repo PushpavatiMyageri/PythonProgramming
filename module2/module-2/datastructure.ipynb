{
 "cells": [
  {
   "cell_type": "code",
   "execution_count": 1,
   "metadata": {},
   "outputs": [
    {
     "name": "stdout",
     "output_type": "stream",
     "text": [
      "56 bytes\n",
      "40 bytes\n"
     ]
    }
   ],
   "source": [
    "\n",
    "import sys\n",
    "list1 = list()\n",
    "tuple1 = tuple()\n",
    "print(sys.getsizeof(list1),'bytes')\n",
    "print(sys.getsizeof(tuple1),'bytes')\n",
    "\n"
   ]
  },
  {
   "cell_type": "code",
   "execution_count": 7,
   "metadata": {},
   "outputs": [
    {
     "name": "stdout",
     "output_type": "stream",
     "text": [
      "{'rashmi', 'pushpa1', 'pushpa', 'namrata'}\n",
      "{'rashmi', 0, 1, 2, 'namrata', 3, 4, 5, 'pushpa', 'pushpa1'}\n"
     ]
    }
   ],
   "source": [
    "people = {\"pushpa\",'pushpa1',\"rashmi\"}\n",
    "people.add(\"namrata\")\n",
    "print(people)\n",
    "\n",
    "for i in range(6):\n",
    "    people.add(i)\n",
    "print(people)"
   ]
  },
  {
   "cell_type": "code",
   "execution_count": 4,
   "metadata": {},
   "outputs": [
    {
     "name": "stdout",
     "output_type": "stream",
     "text": [
      "80 bytes\n",
      "80 bytes\n"
     ]
    }
   ],
   "source": [
    "import sys\n",
    "list1 = [1,2,3]\n",
    "tuple1 = (1,2,3,4,5)\n",
    "print(sys.getsizeof(list1),'bytes')\n",
    "print(sys.getsizeof(tuple1),'bytes')"
   ]
  },
  {
   "cell_type": "code",
   "execution_count": 11,
   "metadata": {},
   "outputs": [
    {
     "name": "stdout",
     "output_type": "stream",
     "text": [
      "union using union()function\n",
      "{'rashmi', 'karan', 'arjun', 'pushpa1', 'pushpa'}\n",
      "{'rashmi', 'raju', 'deepa', 'pushpa1', 'pushpa'}\n"
     ]
    }
   ],
   "source": [
    "#union\n",
    "people = {\"pushpa\",\"pushpa1\",\"rashmi\"}\n",
    "vampire = {\"karan\",\"arjun\"}\n",
    "dracula = {\"deepa\",\"raju\"}\n",
    "population = people.union(vampire)\n",
    "print(\"union using union()function\")\n",
    "print(population)\n",
    "\n",
    "#operator\n",
    "population = people|dracula\n",
    "print(population)"
   ]
  },
  {
   "cell_type": "code",
   "execution_count": 17,
   "metadata": {},
   "outputs": [
    {
     "name": "stdout",
     "output_type": "stream",
     "text": [
      "{3, 4}\n",
      "{3, 4}\n",
      "set()\n"
     ]
    }
   ],
   "source": [
    "#intersection\n",
    "set1 = set()\n",
    "set2 = set()\n",
    "for i in range(0,5):\n",
    "    set1.add(i)\n",
    "for i in range(3,9):\n",
    "    set2.add(i)\n",
    "\n",
    "set3 = set1.intersection(set2)\n",
    "print(set3)\n",
    "\n",
    "set3 = set1 & set2\n",
    "print(set3)\n",
    " \n",
    "#difference of two sets \n",
    "set4 = set3.difference(set2)\n",
    "print(set4)"
   ]
  },
  {
   "cell_type": "code",
   "execution_count": 1,
   "metadata": {},
   "outputs": [
    {
     "name": "stdout",
     "output_type": "stream",
     "text": [
      "output of read function is \n",
      "hello \n",
      "This is delhi \n",
      "This is paris \n",
      "This is london\n",
      "\n",
      "output of readline function is \n",
      "hello \n",
      "Th\n",
      "\n",
      "output of readline(9) function is \n",
      "hello \n",
      "\n",
      "output of readlines function is \n",
      "['hello \\n', 'This is delhi \\n', 'This is paris \\n', 'This is london']\n",
      "\n"
     ]
    }
   ],
   "source": [
    "file1 = open(\"myfile.txt\",\"w\")\n",
    "L = [\"This is delhi \\n\",\"This is paris \\n\",\"This is london\"]\n",
    "\n",
    "file1.write(\"hello \\n\")\n",
    "file1.writelines(L)\n",
    "file1.close()\n",
    "\n",
    "file1 = open(\"myfile.txt\",\"r+\")\n",
    "\n",
    "print(\"output of read function is \")\n",
    "print(file1.read())\n",
    "print()\n",
    "\n",
    "file1.seek(0)\n",
    "\n",
    "print(\"output of readline function is \")\n",
    "print(file1.read(9))\n",
    "print()\n",
    "file1.seek(0)\n",
    "\n",
    "print(\"output of readline(9) function is \")\n",
    "print(file1.readline(9))\n",
    "\n",
    "file1.seek(0)\n",
    "\n",
    "print(\"output of readlines function is \")\n",
    "print(file1.readlines())\n",
    "print()\n",
    "file1.close()\n",
    "\n",
    "\n",
    "\n",
    "\n"
   ]
  },
  {
   "cell_type": "code",
   "execution_count": 5,
   "metadata": {},
   "outputs": [
    {
     "name": "stdout",
     "output_type": "stream",
     "text": [
      "output of read function is \n",
      "hello \n",
      "Name:Pushpa \n",
      "Mobile no : 1234567890 \n",
      "Roll no : 101\n",
      "E-mail id : example123@gmail.com\n",
      "\n",
      "\n",
      "output of readline function is \n",
      "hello \n",
      "Name:Pushpa \n",
      "Mobile no : 1234567890 \n",
      "Roll no : 101\n",
      "E-mail id : example123@gmail.com\n",
      "\n",
      "\n",
      "output of readline(100) function is \n",
      "hello \n",
      "\n",
      "output of readlines function is \n",
      "E-mail id : example123@gmail.com\n",
      "\n",
      "\n"
     ]
    }
   ],
   "source": [
    "file1 = open(\"myfile1.txt\",\"w\")\n",
    "L = [\"Name:Pushpa \\n\",\"Mobile no : 1234567890 \\n\",\"Roll no : 101\\n\",\"E-mail id : example123@gmail.com\\n\"]\n",
    "\n",
    "file1.write(\"hello \\n\")\n",
    "file1.writelines(L)\n",
    "file1.close()\n",
    "\n",
    "file1 = open(\"myfile1.txt\",\"r+\")\n",
    "\n",
    "print(\"output of read function is \")\n",
    "print(file1.read())\n",
    "print()\n",
    "\n",
    "file1.seek(0)\n",
    "\n",
    "print(\"output of readline function is \")\n",
    "print(file1.read(100))\n",
    "print()\n",
    "file1.seek(0)\n",
    "\n",
    "print(\"output of readline(100) function is \")\n",
    "print(file1.readline(100))\n",
    "\n",
    "file1.seek(0)\n",
    "\n",
    "print(\"output of readlines function is \")\n",
    "print(file1.readlines(100)[4])\n",
    "print()\n",
    "file1.close()\n",
    "\n",
    "\n",
    "\n",
    "\n",
    "\n",
    "\n",
    "\n"
   ]
  },
  {
   "cell_type": "code",
   "execution_count": null,
   "metadata": {},
   "outputs": [],
   "source": []
  }
 ],
 "metadata": {
  "kernelspec": {
   "display_name": "Python 3.10.5 64-bit",
   "language": "python",
   "name": "python3"
  },
  "language_info": {
   "codemirror_mode": {
    "name": "ipython",
    "version": 3
   },
   "file_extension": ".py",
   "mimetype": "text/x-python",
   "name": "python",
   "nbconvert_exporter": "python",
   "pygments_lexer": "ipython3",
   "version": "3.10.5"
  },
  "orig_nbformat": 4,
  "vscode": {
   "interpreter": {
    "hash": "afb734500600fd355917ca529030176ea0ca205570884b88f2f6f7d791fd3fbe"
   }
  }
 },
 "nbformat": 4,
 "nbformat_minor": 2
}
