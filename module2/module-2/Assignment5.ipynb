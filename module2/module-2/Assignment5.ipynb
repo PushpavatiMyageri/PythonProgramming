{
 "cells": [
  {
   "cell_type": "code",
   "execution_count": 4,
   "metadata": {},
   "outputs": [
    {
     "name": "stdout",
     "output_type": "stream",
     "text": [
      "pushpa\n",
      "12345\n",
      "My name is : pushpa\n",
      "My IdNumber: 12345\n",
      "My designation is: Software_engineer\n",
      "My Experiance is: 2\n"
     ]
    }
   ],
   "source": [
    "# Python code to demonstrate how parent constructors\n",
    "# are called.\n",
    " \n",
    "# parent class\n",
    "class Engineer(object):\n",
    " \n",
    "    # __init__ is known as the constructor\n",
    "    def __init__(self, name, idnumber):\n",
    "        self.name = name\n",
    "        self.idnumber = idnumber\n",
    " \n",
    "    def display(self):\n",
    "        print(self.name)\n",
    "        print(self.idnumber)\n",
    "         \n",
    "    def details(self):\n",
    "        print(\"My name is {}\".format(self.name))\n",
    "        print(\"IdNumber: {}\".format(self.idnumber))\n",
    "     \n",
    "# child class\n",
    "class Employee(Engineer):\n",
    "    def __init__(self, name, idnumber, salary, designation, Experiance):\n",
    "        self.salary = salary\n",
    "        self.designation = designation\n",
    "        self.Experiance = Experiance\n",
    " \n",
    "        # invoking the __init__ of the parent class\n",
    "        Engineer.__init__(self, name, idnumber)\n",
    "         \n",
    "    def details(self):\n",
    "        print(\"My name is : {}\".format(self.name))\n",
    "        print(\"My IdNumber: {}\".format(self.idnumber))\n",
    "        print(\"My designation is: {}\".format(self.designation))\n",
    "        print(\"My Experiance is: {}\".format(self.Experiance))\n",
    " \n",
    " \n",
    "# creation of an object variable or an instance\n",
    "a = Employee('pushpa', 12345, 65000, \"Software_engineer\",2)\n",
    " \n",
    "# calling a function of the class Person using\n",
    "# its instance\n",
    "a.display()\n",
    "a.details()\n"
   ]
  }
 ],
 "metadata": {
  "kernelspec": {
   "display_name": "Python 3.10.5 64-bit",
   "language": "python",
   "name": "python3"
  },
  "language_info": {
   "codemirror_mode": {
    "name": "ipython",
    "version": 3
   },
   "file_extension": ".py",
   "mimetype": "text/x-python",
   "name": "python",
   "nbconvert_exporter": "python",
   "pygments_lexer": "ipython3",
   "version": "3.10.5"
  },
  "orig_nbformat": 4,
  "vscode": {
   "interpreter": {
    "hash": "afb734500600fd355917ca529030176ea0ca205570884b88f2f6f7d791fd3fbe"
   }
  }
 },
 "nbformat": 4,
 "nbformat_minor": 2
}
