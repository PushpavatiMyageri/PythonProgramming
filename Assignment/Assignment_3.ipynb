{
 "cells": [
  {
   "cell_type": "code",
   "execution_count": 2,
   "metadata": {},
   "outputs": [
    {
     "name": "stdout",
     "output_type": "stream",
     "text": [
      "125\n"
     ]
    }
   ],
   "source": [
    "#1.write a python program to find a cube of a number using lambda function\n",
    "def cube(y):\n",
    "    return y*y*y\n",
    " \n",
    "lambda_cube = lambda y: y*y*y\n",
    "\n",
    "# using the lambda function\n",
    "print(lambda_cube(5))\n"
   ]
  },
  {
   "cell_type": "code",
   "execution_count": 3,
   "metadata": {},
   "outputs": [
    {
     "name": "stdout",
     "output_type": "stream",
     "text": [
      "32.0\n"
     ]
    }
   ],
   "source": [
    "#2.write a python program to find a square root of a number using lambda function\n",
    "def square_root(x):\n",
    "    return x**0.5\n",
    " \n",
    "lambda_sqrt = lambda x: x**0.5\n",
    "\n",
    "# using the lambda function\n",
    "print(lambda_sqrt(1024))"
   ]
  },
  {
   "cell_type": "code",
   "execution_count": 5,
   "metadata": {},
   "outputs": [
    {
     "name": "stdout",
     "output_type": "stream",
     "text": [
      "30\n"
     ]
    }
   ],
   "source": [
    "#3.write a python program to find a maximum of a number using lambda function\n",
    "max = lambda a,b : a if (a>b) else b\n",
    "print(max(20,30))"
   ]
  },
  {
   "cell_type": "code",
   "execution_count": 7,
   "metadata": {},
   "outputs": [
    {
     "name": "stdout",
     "output_type": "stream",
     "text": [
      "NOHTYP_OLLEH\n"
     ]
    }
   ],
   "source": [
    "#4.write a python program to find uppercase of string and reverse it using lambda function\n",
    "str1 = 'hello_python'\n",
    " \n",
    "# lambda returns a function object\n",
    "rev_upper = lambda string: string.upper()[::-1]\n",
    "print(rev_upper(str1))\n"
   ]
  },
  {
   "cell_type": "code",
   "execution_count": 12,
   "metadata": {},
   "outputs": [
    {
     "name": "stdout",
     "output_type": "stream",
     "text": [
      "10\n",
      "20\n",
      "30\n",
      "40\n"
     ]
    }
   ],
   "source": [
    "#5. \n",
    "\n",
    "is_even_list = [lambda arg=x: arg * 10 for x in range(1, 5)]\n",
    " \n",
    "# iterate on each lambda function\n",
    "# and invoke the function to get the calculated value\n",
    "for item in is_even_list:\n",
    "    print(item())"
   ]
  }
 ],
 "metadata": {
  "kernelspec": {
   "display_name": "Python 3.10.5 64-bit",
   "language": "python",
   "name": "python3"
  },
  "language_info": {
   "codemirror_mode": {
    "name": "ipython",
    "version": 3
   },
   "file_extension": ".py",
   "mimetype": "text/x-python",
   "name": "python",
   "nbconvert_exporter": "python",
   "pygments_lexer": "ipython3",
   "version": "3.10.5"
  },
  "orig_nbformat": 4,
  "vscode": {
   "interpreter": {
    "hash": "afb734500600fd355917ca529030176ea0ca205570884b88f2f6f7d791fd3fbe"
   }
  }
 },
 "nbformat": 4,
 "nbformat_minor": 2
}
