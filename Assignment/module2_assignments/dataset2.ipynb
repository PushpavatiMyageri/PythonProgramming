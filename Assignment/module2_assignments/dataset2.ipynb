{
 "cells": [
  {
   "cell_type": "code",
   "execution_count": 14,
   "metadata": {},
   "outputs": [
    {
     "name": "stdout",
     "output_type": "stream",
     "text": [
      "<_csv.reader object at 0x0000013BAE0C48E0>\n",
      "['num;age;sexe;sitfam;principal;voiture;velo;commun;revenu']\n",
      "['1;25;H;1;1;0;1;0;1200']\n",
      "['2;29;F;1;3;1;0;1;1330']\n",
      "['3;35;F;3;1;1;0;0;1850']\n",
      "['4;19;F;2;4;0;0;1;']\n",
      "['5;23;H;5;2;;;;2560']\n",
      "['6;45;;4;1;1;0;0;3200']\n",
      "['7;33;H;3;3;0;1;1;2210']\n",
      "['8;22;H;9;4;1;0;0;1550']\n",
      "['9;21;F;3;1;;;;1340']\n",
      "['10;38;;2;2;1;1;0;1400']\n",
      "['11;25;H;1;1;0;1;0;1400']\n",
      "['12;29;F;1;1;1;0;0;1350']\n",
      "['13;35;F;3;2;1;0;0;1550']\n",
      "['14;19;F;2;1;0;0;1;1180']\n",
      "['15;42;H;5;1;;;;2110']\n",
      "['16;45;;3;1;0;1;0;2250']\n",
      "['17;33;H;3;1;0;1;1;1940']\n",
      "['18;22;H;9;2;1;0;0;1600']\n",
      "['19;21;F;3;1;1;0;0;1240']\n",
      "['20;38;F;2;3;1;1;0;1950']\n",
      "['21;46;;4;4;1;0;0;']\n",
      "['22;32;H;3;1;0;1;1;1860']\n",
      "['23;21;H;9;2;1;0;0;1120']\n",
      "['24;24;F;3;1;;;;1300']\n",
      "['25;37;;2;1;1;1;0;1900']\n",
      "['26;44;H;1;1;0;1;0;2310']\n",
      "['27;28;F;3;3;1;0;1;1800']\n",
      "['28;22;F;2;1;1;0;1;1100']\n",
      "['29;20;F;2;1;0;0;1;900']\n",
      "['30;43;;4;4;1;1;0;2600']\n",
      "['31;48;F;4;1;0;1;0;2700']\n",
      "['32;25;F;2;1;0;0;1;']\n",
      "['33;33;H;5;2;1;0;1;2500']\n",
      "['34;29;;4;1;1;0;0;1640']\n",
      "['35;45;F;3;2;1;0;1;1200']\n",
      "['36;33;F;2;3;1;0;1;1160']\n",
      "['37;46;F;2;1;0;0;1;3200']\n",
      "['38;37;H;1;3;0;1;0;2250']\n",
      "['39;28;F;1;1;1;0;1;1550']\n",
      "['40;48;H;3;1;0;1;1;1370']\n",
      "['41;38;H;1;4;0;1;0;1350']\n",
      "['42;25;F;1;4;1;0;0;1550']\n",
      "['43;29;F;3;3;1;0;1;1120']\n",
      "['44;35;F;2;3;0;0;1;2100']\n",
      "['45;19;F;3;1;1;0;1;2200']\n",
      "['46;42;F;2;1;1;0;1;2510']\n",
      "['47;45;F;2;3;0;0;1;1600']\n",
      "['48;33;H;1;2;0;1;0;1230']\n",
      "['49;22;F;1;1;1;0;1;1320']\n",
      "['50;23;H;9;3;1;0;0;1890']\n"
     ]
    }
   ],
   "source": [
    "import csv\n",
    "\n",
    "with open('C:/Users/User/Desktop/transport.csv',mode='r') as opened_file_ref:\n",
    "    csvfile=csv.reader(opened_file_ref)\n",
    "    print(csvfile)\n",
    "\n",
    "    for data in csvfile:\n",
    "        print(data)"
   ]
  },
  {
   "cell_type": "code",
   "execution_count": 23,
   "metadata": {},
   "outputs": [
    {
     "name": "stdout",
     "output_type": "stream",
     "text": [
      "<_csv.reader object at 0x0000013BAE128940>\n",
      "['num;age;sexe;sitfam;principal;voiture;velo;commun;revenu']\n",
      "['6;45;;4;1;1;0;0;3200']\n",
      "['7;33;H;3;3;0;1;1;2210']\n",
      "['8;22;H;9;4;1;0;0;1550']\n",
      "['9;21;F;3;1;;;;1340']\n"
     ]
    }
   ],
   "source": [
    "import csv\n",
    "\n",
    "with open('C:/Users/User/Desktop/transport.csv',mode='r') as opened_file_ref:\n",
    "    csvfile=csv.reader(opened_file_ref)\n",
    "    print(csvfile)\n",
    "\n",
    "    for data in csvfile:\n",
    "        if data[0] > '6':\n",
    "            print(data)"
   ]
  },
  {
   "cell_type": "code",
   "execution_count": 4,
   "metadata": {},
   "outputs": [
    {
     "name": "stdout",
     "output_type": "stream",
     "text": [
      "<_csv.reader object at 0x000001FCBF9E96C0>\n"
     ]
    }
   ],
   "source": [
    "import csv\n",
    "\n",
    "with open('C:/Users/User/Desktop/transport.csv',mode='r') as opened_file_ref:\n",
    "    csvfile=csv.reader(opened_file_ref)\n",
    "    print(csvfile)\n",
    "\n",
    "    for data in csvfile:\n",
    "        if data[0] == 9:\n",
    "            print(data)"
   ]
  },
  {
   "cell_type": "code",
   "execution_count": 6,
   "metadata": {},
   "outputs": [
    {
     "name": "stdout",
     "output_type": "stream",
     "text": [
      "<_csv.reader object at 0x000001FCBFB4A5C0>\n",
      "['num;age;sexe;sitfam;principal;voiture;velo;commun;revenu']\n",
      "['1;25;H;1;1;0;1;0;1200']\n",
      "['2;29;F;1;3;1;0;1;1330']\n",
      "['3;35;F;3;1;1;0;0;1850']\n",
      "['4;19;F;2;4;0;0;1;']\n",
      "['5;23;H;5;2;;;;2560']\n",
      "['6;45;;4;1;1;0;0;3200']\n",
      "['7;33;H;3;3;0;1;1;2210']\n",
      "['8;22;H;9;4;1;0;0;1550']\n",
      "['9;21;F;3;1;;;;1340']\n",
      "['10;38;;2;2;1;1;0;1400']\n",
      "['11;25;H;1;1;0;1;0;1400']\n",
      "['12;29;F;1;1;1;0;0;1350']\n",
      "['13;35;F;3;2;1;0;0;1550']\n",
      "['14;19;F;2;1;0;0;1;1180']\n",
      "['15;42;H;5;1;;;;2110']\n",
      "['16;45;;3;1;0;1;0;2250']\n",
      "['17;33;H;3;1;0;1;1;1940']\n",
      "['18;22;H;9;2;1;0;0;1600']\n",
      "['19;21;F;3;1;1;0;0;1240']\n",
      "['20;38;F;2;3;1;1;0;1950']\n",
      "['21;46;;4;4;1;0;0;']\n",
      "['22;32;H;3;1;0;1;1;1860']\n",
      "['23;21;H;9;2;1;0;0;1120']\n",
      "['24;24;F;3;1;;;;1300']\n",
      "['25;37;;2;1;1;1;0;1900']\n",
      "['26;44;H;1;1;0;1;0;2310']\n",
      "['27;28;F;3;3;1;0;1;1800']\n",
      "['28;22;F;2;1;1;0;1;1100']\n",
      "['29;20;F;2;1;0;0;1;900']\n",
      "['30;43;;4;4;1;1;0;2600']\n",
      "['31;48;F;4;1;0;1;0;2700']\n",
      "['32;25;F;2;1;0;0;1;']\n",
      "['33;33;H;5;2;1;0;1;2500']\n",
      "['34;29;;4;1;1;0;0;1640']\n",
      "['35;45;F;3;2;1;0;1;1200']\n",
      "['36;33;F;2;3;1;0;1;1160']\n",
      "['37;46;F;2;1;0;0;1;3200']\n",
      "['38;37;H;1;3;0;1;0;2250']\n",
      "['39;28;F;1;1;1;0;1;1550']\n",
      "['40;48;H;3;1;0;1;1;1370']\n",
      "['41;38;H;1;4;0;1;0;1350']\n",
      "['42;25;F;1;4;1;0;0;1550']\n",
      "['43;29;F;3;3;1;0;1;1120']\n",
      "['44;35;F;2;3;0;0;1;2100']\n",
      "['45;19;F;3;1;1;0;1;2200']\n",
      "['46;42;F;2;1;1;0;1;2510']\n",
      "['47;45;F;2;3;0;0;1;1600']\n",
      "['48;33;H;1;2;0;1;0;1230']\n",
      "['49;22;F;1;1;1;0;1;1320']\n",
      "['50;23;H;9;3;1;0;0;1890']\n"
     ]
    }
   ],
   "source": [
    "import csv\n",
    "\n",
    "with open('C:/Users/User/Desktop/transport.csv',mode='r') as opened_file_ref:\n",
    "    csvfile=csv.reader(opened_file_ref)\n",
    "    print(csvfile)\n",
    "\n",
    "    for data in csvfile:\n",
    "\n",
    "        print(data[:4])"
   ]
  },
  {
   "cell_type": "code",
   "execution_count": 13,
   "metadata": {},
   "outputs": [
    {
     "name": "stdout",
     "output_type": "stream",
     "text": [
      "<_csv.reader object at 0x000001FCBD8CB820>\n"
     ]
    }
   ],
   "source": [
    "import csv\n",
    "\n",
    "with open('C:/Users/User/Desktop/transport.csv',mode='r') as opened_file_ref:\n",
    "    csvfile=csv.reader(opened_file_ref)\n",
    "    print(csvfile)\n",
    "\n",
    "    for data in csvfile:\n",
    "        if data[0] == 35:\n",
    "            print(data)"
   ]
  }
 ],
 "metadata": {
  "kernelspec": {
   "display_name": "Python 3.10.5 64-bit",
   "language": "python",
   "name": "python3"
  },
  "language_info": {
   "codemirror_mode": {
    "name": "ipython",
    "version": 3
   },
   "file_extension": ".py",
   "mimetype": "text/x-python",
   "name": "python",
   "nbconvert_exporter": "python",
   "pygments_lexer": "ipython3",
   "version": "3.10.5"
  },
  "orig_nbformat": 4,
  "vscode": {
   "interpreter": {
    "hash": "afb734500600fd355917ca529030176ea0ca205570884b88f2f6f7d791fd3fbe"
   }
  }
 },
 "nbformat": 4,
 "nbformat_minor": 2
}
