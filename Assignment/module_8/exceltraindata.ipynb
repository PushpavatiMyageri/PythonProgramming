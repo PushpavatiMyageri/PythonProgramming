{
 "cells": [
  {
   "cell_type": "code",
   "execution_count": 24,
   "metadata": {},
   "outputs": [
    {
     "data": {
      "text/plain": [
       "array(['Seniour', 'Juniour'], dtype=object)"
      ]
     },
     "execution_count": 24,
     "metadata": {},
     "output_type": "execute_result"
    }
   ],
   "source": [
    "import pandas as pd\n",
    "from sklearn.tree import DecisionTreeClassifier\n",
    "from sklearn.model_selection import train_test_split\n",
    "from sklearn.metrics import accuracy_score\n",
    "\n",
    "\n",
    "music_data = pd.read_csv('C:/Users/User/Desktop/Employeedetails.csv')\n",
    "\n",
    "X = music_data.drop(columns=['Designation','FirstName'])\n",
    "Y = music_data['Designation']\n",
    "\n",
    "\n",
    "X_train, X_test, Y_train,Y_test = train_test_split(X,Y, test_size=0.2)\n",
    "\n",
    "model = DecisionTreeClassifier()\n",
    "\n",
    "\n",
    "model.fit(X_train,Y_train)\n",
    "\n",
    "predictions = model.predict(X_test)\n",
    "predictions\n",
    "# score = accuracy_score(Y_test,predictions)\n",
    "# score"
   ]
  },
  {
   "cell_type": "code",
   "execution_count": 39,
   "metadata": {},
   "outputs": [
    {
     "name": "stderr",
     "output_type": "stream",
     "text": [
      "c:\\ProgramData\\Anaconda3\\lib\\site-packages\\sklearn\\base.py:450: UserWarning: X does not have valid feature names, but DecisionTreeClassifier was fitted with feature names\n",
      "  warnings.warn(\n"
     ]
    },
    {
     "data": {
      "text/plain": [
       "array(['Juniour'], dtype=object)"
      ]
     },
     "execution_count": 39,
     "metadata": {},
     "output_type": "execute_result"
    }
   ],
   "source": [
    "import pandas as pd\n",
    "from sklearn.tree import DecisionTreeClassifier\n",
    "import joblib\n",
    "\n",
    "\n",
    "music_data = pd.read_csv('C:/Users/User/Desktop/Employeedetails.csv')\n",
    "\n",
    "X = music_data.drop(columns=['Designation','FirstName'])\n",
    "Y = music_data['Designation']\n",
    "\n",
    "\n",
    "X_train, X_test, Y_train,Y_test = train_test_split(X,Y, test_size=0.2)\n",
    "\n",
    "model = DecisionTreeClassifier()\n",
    "\n",
    "model.fit(X_train,Y_train)\n",
    "\n",
    "\n",
    "# model = joblib.load('designation-recommender1.joblib')\n",
    "predictions = model.predict([[111,8000]])\n",
    "predictions"
   ]
  },
  {
   "cell_type": "code",
   "execution_count": 41,
   "metadata": {},
   "outputs": [],
   "source": [
    "import pandas as pd\n",
    "from sklearn.tree import DecisionTreeClassifier\n",
    "from sklearn import tree\n",
    "import joblib\n",
    "\n",
    "\n",
    "music_data = pd.read_csv('C:/Users/User/Desktop/Employeedetails.csv')\n",
    "\n",
    "X = music_data.drop(columns=['Designation','FirstName'])\n",
    "Y = music_data['Designation']\n",
    "\n",
    "\n",
    "X_train, X_test, Y_train,Y_test = train_test_split(X,Y, test_size=0.2)\n",
    "\n",
    "model = DecisionTreeClassifier()\n",
    "\n",
    "model.fit(X_train,Y_train)\n",
    "\n",
    "\n",
    "tree.export_graphviz(model, out_file='designation-recommender.dot',  feature_names=['EmployeeId','Salary'],class_names=sorted(Y.unique()),label='all',rounded=True)"
   ]
  }
 ],
 "metadata": {
  "kernelspec": {
   "display_name": "Python 3.9.12 ('base')",
   "language": "python",
   "name": "python3"
  },
  "language_info": {
   "codemirror_mode": {
    "name": "ipython",
    "version": 3
   },
   "file_extension": ".py",
   "mimetype": "text/x-python",
   "name": "python",
   "nbconvert_exporter": "python",
   "pygments_lexer": "ipython3",
   "version": "3.9.12"
  },
  "orig_nbformat": 4,
  "vscode": {
   "interpreter": {
    "hash": "ad2bdc8ecc057115af97d19610ffacc2b4e99fae6737bb82f5d7fb13d2f2c186"
   }
  }
 },
 "nbformat": 4,
 "nbformat_minor": 2
}
