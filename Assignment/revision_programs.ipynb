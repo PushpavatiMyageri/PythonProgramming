{
 "cells": [
  {
   "cell_type": "code",
   "execution_count": 1,
   "metadata": {},
   "outputs": [
    {
     "name": "stdout",
     "output_type": "stream",
     "text": [
      "hello world\n"
     ]
    }
   ],
   "source": [
    "a = \"hello world\"\n",
    "print(a)"
   ]
  },
  {
   "cell_type": "code",
   "execution_count": 9,
   "metadata": {},
   "outputs": [
    {
     "name": "stdout",
     "output_type": "stream",
     "text": [
      "sum of 10 and 20 is 30\n"
     ]
    }
   ],
   "source": [
    "a,b=10,20\n",
    "print('sum of' , a , 'and' , b , 'is', a+b)"
   ]
  },
  {
   "cell_type": "code",
   "execution_count": 2,
   "metadata": {},
   "outputs": [
    {
     "name": "stdout",
     "output_type": "stream",
     "text": [
      "square root of a number :  8.0\n"
     ]
    }
   ],
   "source": [
    "# square root\n",
    "a = 16\n",
    "print(\"square root of a number : \" , a**0.5)"
   ]
  },
  {
   "cell_type": "code",
   "execution_count": 3,
   "metadata": {},
   "outputs": [
    {
     "name": "stdout",
     "output_type": "stream",
     "text": [
      "area of a triangle: 5.0\n"
     ]
    }
   ],
   "source": [
    "#area of a traingle\n",
    "b,h = 2,5\n",
    "print(\"area of a triangle:\",0.5*b*h)"
   ]
  },
  {
   "cell_type": "code",
   "execution_count": null,
   "metadata": {},
   "outputs": [],
   "source": [
    "# solve quadratic eqn\n"
   ]
  },
  {
   "cell_type": "code",
   "execution_count": 6,
   "metadata": {},
   "outputs": [
    {
     "name": "stdout",
     "output_type": "stream",
     "text": [
      "after swapping : (20, 10)\n"
     ]
    }
   ],
   "source": [
    "# swap 2 variables\n",
    "a,b=10,20\n",
    "temp=a\n",
    "a=b\n",
    "b=temp\n",
    "print(\"after swapping :\",(a,b))"
   ]
  },
  {
   "cell_type": "code",
   "execution_count": null,
   "metadata": {},
   "outputs": [],
   "source": [
    "# generate random variable\n",
    "import random\n"
   ]
  },
  {
   "cell_type": "code",
   "execution_count": 1,
   "metadata": {},
   "outputs": [
    {
     "name": "stdout",
     "output_type": "stream",
     "text": [
      "the given no is negative\n"
     ]
    }
   ],
   "source": [
    "# positive negative or zero\n",
    "n=-5\n",
    "if n == 0 :\n",
    "    print(\"the given number is zero\")\n",
    "elif n>0 :\n",
    "    print(\"the given no is positive\")\n",
    "else :\n",
    "    print(\"the given no is negative\")\n",
    "\n"
   ]
  },
  {
   "cell_type": "code",
   "execution_count": 7,
   "metadata": {},
   "outputs": [
    {
     "name": "stdout",
     "output_type": "stream",
     "text": [
      "1 is odd number\n"
     ]
    }
   ],
   "source": [
    "# odd even\n",
    "def odd_even(n):\n",
    "    if n%2 == 0:\n",
    "        print(n,\"is even number\")\n",
    "    else:\n",
    "        print(n,\"is odd number\")\n",
    "\n",
    "odd_even(1)"
   ]
  },
  {
   "cell_type": "code",
   "execution_count": 8,
   "metadata": {},
   "outputs": [
    {
     "name": "stdout",
     "output_type": "stream",
     "text": [
      "2000 is leap year\n"
     ]
    }
   ],
   "source": [
    "# leap year\n",
    "def leap(n):\n",
    "    if n%2 == 0:\n",
    "        print(n,\"is leap year\")\n",
    "    else:\n",
    "        print(n,\"is not a leap year\")\n",
    "leap(2000)"
   ]
  },
  {
   "cell_type": "code",
   "execution_count": 10,
   "metadata": {},
   "outputs": [
    {
     "name": "stdout",
     "output_type": "stream",
     "text": [
      "60 is big\n"
     ]
    }
   ],
   "source": [
    "# largest of 3\n",
    "a,b,c = 10,60,40\n",
    "if a>b:\n",
    "    print(a, \"is big\")\n",
    "elif b>c:\n",
    "    print(b, \"is big\")\n",
    "else:\n",
    "    print(c,\"is big\")\n"
   ]
  },
  {
   "cell_type": "code",
   "execution_count": 3,
   "metadata": {},
   "outputs": [
    {
     "ename": "TypeError",
     "evalue": "'str' object cannot be interpreted as an integer",
     "output_type": "error",
     "traceback": [
      "\u001b[1;31m---------------------------------------------------------------------------\u001b[0m",
      "\u001b[1;31mTypeError\u001b[0m                                 Traceback (most recent call last)",
      "\u001b[1;32mc:\\Users\\User\\Desktop\\python_programs\\Assignment\\revision_programs.ipynb Cell 12\u001b[0m in \u001b[0;36m<cell line: 2>\u001b[1;34m()\u001b[0m\n\u001b[0;32m      <a href='vscode-notebook-cell:/c%3A/Users/User/Desktop/python_programs/Assignment/revision_programs.ipynb#X14sZmlsZQ%3D%3D?line=0'>1</a>\u001b[0m \u001b[39m# star pattern\u001b[39;00m\n\u001b[0;32m      <a href='vscode-notebook-cell:/c%3A/Users/User/Desktop/python_programs/Assignment/revision_programs.ipynb#X14sZmlsZQ%3D%3D?line=1'>2</a>\u001b[0m \u001b[39mfor\u001b[39;00m i \u001b[39min\u001b[39;00m \u001b[39mrange\u001b[39m(\u001b[39m1\u001b[39m,\u001b[39m11\u001b[39m):\n\u001b[1;32m----> <a href='vscode-notebook-cell:/c%3A/Users/User/Desktop/python_programs/Assignment/revision_programs.ipynb#X14sZmlsZQ%3D%3D?line=2'>3</a>\u001b[0m     \u001b[39mfor\u001b[39;00m j \u001b[39min\u001b[39;00m \u001b[39mrange\u001b[39;49m(\u001b[39m\"\u001b[39;49m\u001b[39m* \u001b[39;49m\u001b[39m\"\u001b[39;49m,\u001b[39m\"\u001b[39;49m\u001b[39mi+1\u001b[39;49m\u001b[39m\"\u001b[39;49m):\n\u001b[0;32m      <a href='vscode-notebook-cell:/c%3A/Users/User/Desktop/python_programs/Assignment/revision_programs.ipynb#X14sZmlsZQ%3D%3D?line=3'>4</a>\u001b[0m        \u001b[39mprint\u001b[39m(\u001b[39m\"\u001b[39m\u001b[39m* \u001b[39m\u001b[39m\"\u001b[39m,i)\n",
      "\u001b[1;31mTypeError\u001b[0m: 'str' object cannot be interpreted as an integer"
     ]
    }
   ],
   "source": [
    "# star pattern\n",
    "for i in range(1,11):\n",
    "    for j in range(\"* \",\"i+1\"):\n",
    "       print(\"* \",i)\n",
    "    \n"
   ]
  },
  {
   "cell_type": "code",
   "execution_count": null,
   "metadata": {},
   "outputs": [],
   "source": [
    "# fibonacci"
   ]
  },
  {
   "cell_type": "code",
   "execution_count": null,
   "metadata": {},
   "outputs": [],
   "source": [
    "# sum of natural no\n"
   ]
  },
  {
   "cell_type": "code",
   "execution_count": null,
   "metadata": {},
   "outputs": [],
   "source": []
  }
 ],
 "metadata": {
  "kernelspec": {
   "display_name": "Python 3.10.5 64-bit",
   "language": "python",
   "name": "python3"
  },
  "language_info": {
   "codemirror_mode": {
    "name": "ipython",
    "version": 3
   },
   "file_extension": ".py",
   "mimetype": "text/x-python",
   "name": "python",
   "nbconvert_exporter": "python",
   "pygments_lexer": "ipython3",
   "version": "3.10.5"
  },
  "orig_nbformat": 4,
  "vscode": {
   "interpreter": {
    "hash": "afb734500600fd355917ca529030176ea0ca205570884b88f2f6f7d791fd3fbe"
   }
  }
 },
 "nbformat": 4,
 "nbformat_minor": 2
}
