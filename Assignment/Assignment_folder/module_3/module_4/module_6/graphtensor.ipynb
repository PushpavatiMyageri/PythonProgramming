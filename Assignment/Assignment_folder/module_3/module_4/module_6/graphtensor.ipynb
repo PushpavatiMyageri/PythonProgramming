{
 "cells": [
  {
   "cell_type": "code",
   "execution_count": 6,
   "metadata": {},
   "outputs": [
    {
     "ename": "AttributeError",
     "evalue": "module 'tensorflow' has no attribute 'global_variables_initializer'",
     "output_type": "error",
     "traceback": [
      "\u001b[1;31m---------------------------------------------------------------------------\u001b[0m",
      "\u001b[1;31mAttributeError\u001b[0m                            Traceback (most recent call last)",
      "Cell \u001b[1;32mIn [6], line 5\u001b[0m\n\u001b[0;32m      3\u001b[0m \u001b[39mwith\u001b[39;00m graph\u001b[39m.\u001b[39mas_default():\n\u001b[0;32m      4\u001b[0m   variable \u001b[39m=\u001b[39m tf\u001b[39m.\u001b[39mVariable(\u001b[39m42\u001b[39m, name\u001b[39m=\u001b[39m\u001b[39m'\u001b[39m\u001b[39mfoo\u001b[39m\u001b[39m'\u001b[39m)\n\u001b[1;32m----> 5\u001b[0m   initialize \u001b[39m=\u001b[39m tf\u001b[39m.\u001b[39;49mglobal_variables_initializer()\n\u001b[0;32m      6\u001b[0m   assign \u001b[39m=\u001b[39m variable\u001b[39m.\u001b[39massign(\u001b[39m13\u001b[39m)\n",
      "\u001b[1;31mAttributeError\u001b[0m: module 'tensorflow' has no attribute 'global_variables_initializer'"
     ]
    }
   ],
   "source": [
    "import tensorflow as tf\n",
    "graph = tf.Graph()\n",
    "with graph.as_default():\n",
    "  variable = tf.Variable(42, name='foo')\n",
    "#   initialize = tf.global_variables_initializer()\n",
    "  assign = variable.assign(13)\n"
   ]
  },
  {
   "cell_type": "code",
   "execution_count": 7,
   "metadata": {},
   "outputs": [
    {
     "ename": "AttributeError",
     "evalue": "module 'tensorflow' has no attribute 'Session'",
     "output_type": "error",
     "traceback": [
      "\u001b[1;31m---------------------------------------------------------------------------\u001b[0m",
      "\u001b[1;31mAttributeError\u001b[0m                            Traceback (most recent call last)",
      "Cell \u001b[1;32mIn [7], line 1\u001b[0m\n\u001b[1;32m----> 1\u001b[0m \u001b[39mwith\u001b[39;00m tf\u001b[39m.\u001b[39;49mSession(graph\u001b[39m=\u001b[39mgraph) \u001b[39mas\u001b[39;00m sess:\n\u001b[0;32m      2\u001b[0m \u001b[39m#   sess.run(initialize)\u001b[39;00m\n\u001b[0;32m      3\u001b[0m   sess\u001b[39m.\u001b[39mrun(assign)\n\u001b[0;32m      4\u001b[0m   \u001b[39mprint\u001b[39m(sess\u001b[39m.\u001b[39mrun(variable))\n",
      "\u001b[1;31mAttributeError\u001b[0m: module 'tensorflow' has no attribute 'Session'"
     ]
    }
   ],
   "source": [
    "with tf.Session(graph=graph) as sess:\n",
    "#   sess.run(initialize)\n",
    "  sess.run(assign)\n",
    "  print(sess.run(variable))"
   ]
  },
  {
   "cell_type": "code",
   "execution_count": 8,
   "metadata": {},
   "outputs": [
    {
     "name": "stdout",
     "output_type": "stream",
     "text": [
      "tf.Tensor([1.4142135], shape=(1,), dtype=float32)\n"
     ]
    }
   ],
   "source": [
    "import tensorflow as tf  \n",
    "x = tf.constant([2.0], dtype = tf.float32)\n",
    "print(tf.sqrt(x))"
   ]
  },
  {
   "cell_type": "code",
   "execution_count": 12,
   "metadata": {},
   "outputs": [
    {
     "name": "stdout",
     "output_type": "stream",
     "text": [
      "tf.Tensor([[1.4142135]], shape=(1, 1), dtype=float32)\n"
     ]
    }
   ],
   "source": [
    "import tensorflow as tf \n",
    "x = tf.constant([[2]], dtype=tf.float32)\n",
    "print(tf.sqrt(x))"
   ]
  },
  {
   "cell_type": "code",
   "execution_count": 15,
   "metadata": {},
   "outputs": [
    {
     "name": "stdout",
     "output_type": "stream",
     "text": [
      "tf.Tensor([[4 6]], shape=(1, 2), dtype=int32)\n"
     ]
    }
   ],
   "source": [
    "tensor_a = tf.constant([[1,2]], dtype = tf.int32)\n",
    "tensor_b = tf.constant([[3, 4]], dtype = tf.int32)\n",
    "tensor_add = tf.add(tensor_a, tensor_b)\n",
    "print(tensor_add)"
   ]
  },
  {
   "cell_type": "code",
   "execution_count": 4,
   "metadata": {},
   "outputs": [
    {
     "name": "stdout",
     "output_type": "stream",
     "text": [
      "tf.Tensor(2.0, shape=(), dtype=float32) tf.Tensor(3.0, shape=(), dtype=float32)\n"
     ]
    }
   ],
   "source": [
    "import tensorflow as tf\n",
    "c = tf.constant(2.0,tf.float32)\n",
    "d = tf.constant(3.0)\n",
    "print(c,d)"
   ]
  },
  {
   "cell_type": "code",
   "execution_count": 6,
   "metadata": {},
   "outputs": [
    {
     "ename": "AttributeError",
     "evalue": "module 'tensorflow' has no attribute 'placeholder'",
     "output_type": "error",
     "traceback": [
      "\u001b[1;31m---------------------------------------------------------------------------\u001b[0m",
      "\u001b[1;31mAttributeError\u001b[0m                            Traceback (most recent call last)",
      "Cell \u001b[1;32mIn [6], line 4\u001b[0m\n\u001b[0;32m      2\u001b[0m Y \u001b[39m=\u001b[39m tf\u001b[39m.\u001b[39mVariable([\u001b[39m.4\u001b[39m],dtype\u001b[39m=\u001b[39mtf\u001b[39m.\u001b[39mfloat32)\n\u001b[0;32m      3\u001b[0m a \u001b[39m=\u001b[39m tf\u001b[39m.\u001b[39mVariable([\u001b[39m-\u001b[39m\u001b[39m.4\u001b[39m],dtype\u001b[39m=\u001b[39mtf\u001b[39m.\u001b[39mfloat32)\n\u001b[1;32m----> 4\u001b[0m b \u001b[39m=\u001b[39m tf\u001b[39m.\u001b[39;49mplaceholder(tf\u001b[39m.\u001b[39mfloat32)\n\u001b[0;32m      5\u001b[0m linear_model \u001b[39m=\u001b[39m Y\u001b[39m*\u001b[39mb\u001b[39m+\u001b[39ma\n",
      "\u001b[1;31mAttributeError\u001b[0m: module 'tensorflow' has no attribute 'placeholder'"
     ]
    }
   ],
   "source": [
    "import tensorflow as tf \n",
    "Y = tf.Variable([.4],dtype=tf.float32)\n",
    "a = tf.Variable([-.4],dtype=tf.float32)\n",
    "b = tf.placeholder(tf.float32)\n",
    "linear_model = Y*b+a\n"
   ]
  },
  {
   "cell_type": "code",
   "execution_count": 20,
   "metadata": {},
   "outputs": [
    {
     "ename": "RuntimeError",
     "evalue": "The Session graph is empty. Add operations to the graph before calling run().",
     "output_type": "error",
     "traceback": [
      "\u001b[1;31m---------------------------------------------------------------------------\u001b[0m",
      "\u001b[1;31mRuntimeError\u001b[0m                              Traceback (most recent call last)",
      "Cell \u001b[1;32mIn [20], line 11\u001b[0m\n\u001b[0;32m      8\u001b[0m sess \u001b[39m=\u001b[39m tf\u001b[39m.\u001b[39mcompat\u001b[39m.\u001b[39mv1\u001b[39m.\u001b[39mSession()\n\u001b[0;32m     10\u001b[0m \u001b[39m# evaluating node3 and printing the result\u001b[39;00m\n\u001b[1;32m---> 11\u001b[0m \u001b[39mprint\u001b[39m(\u001b[39m\"\u001b[39m\u001b[39msum of node1 and node2 is :\u001b[39m\u001b[39m\"\u001b[39m,sess\u001b[39m.\u001b[39;49mrun(node3))\n\u001b[0;32m     12\u001b[0m \u001b[39m# closing the session\u001b[39;00m\n\u001b[0;32m     13\u001b[0m sess\u001b[39m.\u001b[39mclose()\n",
      "File \u001b[1;32mc:\\Users\\User\\.conda\\envs\\tf\\lib\\site-packages\\tensorflow\\python\\client\\session.py:968\u001b[0m, in \u001b[0;36mBaseSession.run\u001b[1;34m(self, fetches, feed_dict, options, run_metadata)\u001b[0m\n\u001b[0;32m    965\u001b[0m run_metadata_ptr \u001b[39m=\u001b[39m tf_session\u001b[39m.\u001b[39mTF_NewBuffer() \u001b[39mif\u001b[39;00m run_metadata \u001b[39melse\u001b[39;00m \u001b[39mNone\u001b[39;00m\n\u001b[0;32m    967\u001b[0m \u001b[39mtry\u001b[39;00m:\n\u001b[1;32m--> 968\u001b[0m   result \u001b[39m=\u001b[39m \u001b[39mself\u001b[39;49m\u001b[39m.\u001b[39;49m_run(\u001b[39mNone\u001b[39;49;00m, fetches, feed_dict, options_ptr,\n\u001b[0;32m    969\u001b[0m                      run_metadata_ptr)\n\u001b[0;32m    970\u001b[0m   \u001b[39mif\u001b[39;00m run_metadata:\n\u001b[0;32m    971\u001b[0m     proto_data \u001b[39m=\u001b[39m tf_session\u001b[39m.\u001b[39mTF_GetBuffer(run_metadata_ptr)\n",
      "File \u001b[1;32mc:\\Users\\User\\.conda\\envs\\tf\\lib\\site-packages\\tensorflow\\python\\client\\session.py:1118\u001b[0m, in \u001b[0;36mBaseSession._run\u001b[1;34m(self, handle, fetches, feed_dict, options, run_metadata)\u001b[0m\n\u001b[0;32m   1116\u001b[0m   \u001b[39mraise\u001b[39;00m \u001b[39mRuntimeError\u001b[39;00m(\u001b[39m'\u001b[39m\u001b[39mAttempted to use a closed Session.\u001b[39m\u001b[39m'\u001b[39m)\n\u001b[0;32m   1117\u001b[0m \u001b[39mif\u001b[39;00m \u001b[39mself\u001b[39m\u001b[39m.\u001b[39mgraph\u001b[39m.\u001b[39mversion \u001b[39m==\u001b[39m \u001b[39m0\u001b[39m:\n\u001b[1;32m-> 1118\u001b[0m   \u001b[39mraise\u001b[39;00m \u001b[39mRuntimeError\u001b[39;00m(\u001b[39m'\u001b[39m\u001b[39mThe Session graph is empty. Add operations to the \u001b[39m\u001b[39m'\u001b[39m\n\u001b[0;32m   1119\u001b[0m                      \u001b[39m'\u001b[39m\u001b[39mgraph before calling run().\u001b[39m\u001b[39m'\u001b[39m)\n\u001b[0;32m   1121\u001b[0m \u001b[39m# Create request.\u001b[39;00m\n\u001b[0;32m   1122\u001b[0m feed_dict_tensor \u001b[39m=\u001b[39m {}\n",
      "\u001b[1;31mRuntimeError\u001b[0m: The Session graph is empty. Add operations to the graph before calling run()."
     ]
    }
   ],
   "source": [
    "import tensorflow as tf \n",
    "# creating nodes in computation graph\n",
    "node1 = tf.constant(3, dtype=tf.int32)\n",
    "node2 = tf.constant(5, dtype=tf.int32)\n",
    "node3 = tf.add(node1, node2)\n",
    " \n",
    "# create tensorflow session object\n",
    "sess = tf.compat.v1.Session()\n",
    " \n",
    "# evaluating node3 and printing the result\n",
    "print(\"sum of node1 and node2 is :\",sess.run(node3))\n",
    "# closing the session\n",
    "sess.close()"
   ]
  },
  {
   "cell_type": "code",
   "execution_count": 7,
   "metadata": {},
   "outputs": [
    {
     "ename": "AttributeError",
     "evalue": "module 'tensorflow' has no attribute 'Session'",
     "output_type": "error",
     "traceback": [
      "\u001b[1;31m---------------------------------------------------------------------------\u001b[0m",
      "\u001b[1;31mAttributeError\u001b[0m                            Traceback (most recent call last)",
      "Cell \u001b[1;32mIn [7], line 8\u001b[0m\n\u001b[0;32m      5\u001b[0m node \u001b[39m=\u001b[39m tf\u001b[39m.\u001b[39mVariable(tf\u001b[39m.\u001b[39mzeros([\u001b[39m2\u001b[39m,\u001b[39m2\u001b[39m]))\n\u001b[0;32m      7\u001b[0m \u001b[39m# running computation graph\u001b[39;00m\n\u001b[1;32m----> 8\u001b[0m \u001b[39mwith\u001b[39;00m tf\u001b[39m.\u001b[39;49mSession() \u001b[39mas\u001b[39;00m sess:\n\u001b[0;32m      9\u001b[0m  \n\u001b[0;32m     10\u001b[0m     \u001b[39m# initialize all global variables\u001b[39;00m\n\u001b[0;32m     11\u001b[0m     sess\u001b[39m.\u001b[39mrun(tf\u001b[39m.\u001b[39mglobal_variables_initializer())\n\u001b[0;32m     13\u001b[0m     \u001b[39m# evaluating node\u001b[39;00m\n",
      "\u001b[1;31mAttributeError\u001b[0m: module 'tensorflow' has no attribute 'Session'"
     ]
    }
   ],
   "source": [
    "# importing tensorflow\n",
    "import tensorflow as tf\n",
    " \n",
    "# creating nodes in computation graph\n",
    "node = tf.Variable(tf.zeros([2,2]))\n",
    " \n",
    "# running computation graph\n",
    "with tf.Session() as sess:\n",
    " \n",
    "    # initialize all global variables\n",
    "    sess.run(tf.global_variables_initializer())\n",
    " \n",
    "    # evaluating node\n",
    "    print(\"Tensor value before addition:\\n\",sess.run(node))\n",
    " \n",
    "    # elementwise addition to tensor\n",
    "    node = node.assign(node + tf.ones([2,2]))\n",
    " \n",
    "    # evaluate node again\n",
    "    print(\"Tensor value after addition:\\n\", sess.run(node))"
   ]
  }
 ],
 "metadata": {
  "kernelspec": {
   "display_name": "Python 3.9.13 ('tf')",
   "language": "python",
   "name": "python3"
  },
  "language_info": {
   "codemirror_mode": {
    "name": "ipython",
    "version": 3
   },
   "file_extension": ".py",
   "mimetype": "text/x-python",
   "name": "python",
   "nbconvert_exporter": "python",
   "pygments_lexer": "ipython3",
   "version": "3.9.13"
  },
  "orig_nbformat": 4,
  "vscode": {
   "interpreter": {
    "hash": "c7bf67dc1677b68e4e57316c86db4d069ff1179e8cda4c0b936eefcdea412afe"
   }
  }
 },
 "nbformat": 4,
 "nbformat_minor": 2
}
