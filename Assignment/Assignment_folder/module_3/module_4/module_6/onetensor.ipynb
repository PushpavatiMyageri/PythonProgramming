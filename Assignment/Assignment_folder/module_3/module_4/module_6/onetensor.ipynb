{
 "cells": [
  {
   "cell_type": "code",
   "execution_count": null,
   "metadata": {},
   "outputs": [],
   "source": [
    "import numpy as np \n",
    "tensor_1d = np.array([1.3, 1, 4.0, 23.99]) \n",
    "print tensor_1d"
   ]
  },
  {
   "cell_type": "code",
   "execution_count": null,
   "metadata": {},
   "outputs": [],
   "source": [
    "print tensor_1d[0] \n",
    "print tensor_1d[2]"
   ]
  },
  {
   "cell_type": "code",
   "execution_count": null,
   "metadata": {},
   "outputs": [],
   "source": [
    "import numpy as np \n",
    "tensor_2d=np.array([(1,2,3,4),(4,5,6,7),(8,9,10,11),(12,13,14,15)]) \n",
    "print(tensor_2d)"
   ]
  },
  {
   "cell_type": "code",
   "execution_count": null,
   "metadata": {},
   "outputs": [],
   "source": [
    "tensor_2d[3][2]"
   ]
  },
  {
   "cell_type": "code",
   "execution_count": null,
   "metadata": {},
   "outputs": [],
   "source": [
    "import tensorflow as tf import numpy as np matrix1 = np.array([(2,2,2),(2,2,2),(2,2,2)],dtype='int32') matrix2 = np.array([(1,1,1),(1,1,1),(1,1,1)],dtype='int32') \n",
    " \n",
    "print (matrix1) \n",
    " \n",
    "print (matrix2) matrix1 = tf.constant(matrix1) matrix2 = tf.constant(matrix2) matrix_product = tf.matmul(matrix1, matrix2) matrix_sum = tf.add(matrix1,matrix2) matrix_3 = np.array([(2,7,2),(1,4,2),(9,0,2)],dtype='float32') \n",
    " \n",
    "print (matrix_3) matrix_det = tf.matrix_determinant(matrix_3) with tf.Session() as sess:     result1 = sess.run(matrix_product)     result2 = sess.run(matrix_sum)     result3 = sess.run(matrix_det) \n",
    " \n",
    "print (result1) print (result2) print (result3)"
   ]
  }
 ],
 "metadata": {
  "language_info": {
   "name": "python"
  },
  "orig_nbformat": 4
 },
 "nbformat": 4,
 "nbformat_minor": 2
}
