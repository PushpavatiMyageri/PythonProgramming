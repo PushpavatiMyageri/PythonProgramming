{
 "cells": [
  {
   "cell_type": "code",
   "execution_count": 7,
   "metadata": {},
   "outputs": [
    {
     "name": "stdout",
     "output_type": "stream",
     "text": [
      "<_csv.reader object at 0x0000021E7950BBE0>\n",
      "['25', 'male', '26.22', '0', 'no', 'northeast', '2721.3208']\n",
      "['25', 'male', '33.66', '4', 'no', 'southeast', '4504.6624']\n",
      "['25', 'male', '25.74', '0', 'no', 'southeast', '2137.6536']\n",
      "['25', 'male', '27.55', '0', 'no', 'northwest', '2523.1695']\n",
      "['25', 'male', '45.54', '2', 'yes', 'southeast', '42112.2356']\n",
      "['25', 'male', '26.8', '3', 'no', 'southwest', '3906.127']\n",
      "['25', 'male', '23.9', '5', 'no', 'southwest', '5080.096']\n",
      "['25', 'male', '30.59', '0', 'no', 'northeast', '2727.3951']\n",
      "['25', 'male', '35.625', '0', 'no', 'northwest', '2534.39375']\n",
      "['25', 'female', '28.595', '0', 'no', 'northeast', '3213.62205']\n",
      "['25', 'female', '41.325', '0', 'no', 'northeast', '17878.90068']\n",
      "['25', 'female', '23.465', '0', 'no', 'northeast', '3206.49135']\n",
      "['25', 'male', '25.84', '1', 'no', 'northeast', '3309.7926']\n",
      "['25', 'male', '24.13', '0', 'yes', 'northwest', '15817.9857']\n",
      "['25', 'female', '32.23', '1', 'no', 'southeast', '18218.16139']\n",
      "['25', 'female', '24.3', '3', 'no', 'southwest', '4391.652']\n",
      "['25', 'male', '26.695', '4', 'no', 'northwest', '4877.98105']\n",
      "['25', 'male', '29.7', '3', 'yes', 'southwest', '19933.458']\n",
      "['25', 'male', '24.985', '2', 'no', 'northeast', '23241.47453']\n",
      "['25', 'female', '22.515', '1', 'no', 'northwest', '3594.17085']\n",
      "['25', 'female', '33.99', '1', 'no', 'southeast', '3227.1211']\n",
      "['25', 'male', '33.33', '2', 'yes', 'southeast', '36124.5737']\n",
      "['25', 'female', '30.3', '0', 'no', 'southwest', '2632.992']\n",
      "['25', 'female', '42.13', '1', 'no', 'southeast', '3238.4357']\n",
      "['25', 'female', '34.485', '0', 'no', 'northwest', '3021.80915']\n",
      "['25', 'female', '26.79', '2', 'no', 'northwest', '4189.1131']\n",
      "['25', 'female', '20.8', '1', 'no', 'southwest', '3208.787']\n",
      "['25', 'female', '30.2', '0', 'yes', 'southwest', '33900.653']\n"
     ]
    }
   ],
   "source": [
    "import csv\n",
    "\n",
    "with open('C:/Users/User/Desktop/insurance.csv',mode='r') as opened_file_ref:\n",
    "    csvfile=csv.reader(opened_file_ref)\n",
    "    print(csvfile)\n",
    "\n",
    "    for age in csvfile:\n",
    "        if age[0] >='19'and age[0] <= '25':\n",
    "            if age[0] == '25':\n",
    "                print(age)\n",
    "    "
   ]
  },
  {
   "cell_type": "code",
   "execution_count": 1,
   "metadata": {},
   "outputs": [
    {
     "name": "stdout",
     "output_type": "stream",
     "text": [
      "<_csv.reader object at 0x0000014DE4ACFCA0>\n"
     ]
    }
   ],
   "source": [
    "import csv\n",
    "\n",
    "with open('C:/Users/User/Desktop/netflix.csv',mode='w+') as opened_file_ref:\n",
    "    csvfile=csv.reader(opened_file_ref)\n",
    "    print(csvfile)\n",
    "\n",
    "    for Year in csvfile:\n",
    "        if Year[1] == '2022':\n",
    "            print (Year[1] , '2050')\n",
    "\n",
    "# with open('C:/Users/User/Desktop/netflix.csv','w') as opened_file_ref: \n",
    "#     csvfile = csv.writer(opened_file_ref)\n",
    "#     csvwriter = csv.writer(csvfile) \n",
    "#     csvwriter.writerows(csvwriter)\n",
    "#     print(csvfile)\n",
    "\n"
   ]
  },
  {
   "cell_type": "code",
   "execution_count": 4,
   "metadata": {},
   "outputs": [
    {
     "name": "stdout",
     "output_type": "stream",
     "text": [
      "<_csv.writer object at 0x00000129190F36A0>\n"
     ]
    },
    {
     "ename": "TypeError",
     "evalue": "'_csv.writer' object is not iterable",
     "output_type": "error",
     "traceback": [
      "\u001b[1;31m---------------------------------------------------------------------------\u001b[0m",
      "\u001b[1;31mTypeError\u001b[0m                                 Traceback (most recent call last)",
      "\u001b[1;32mc:\\Users\\User\\Desktop\\python_programs\\Assignment_folder\\module_3\\module_4\\Assignment_exercise.ipynb Cell 3\u001b[0m in \u001b[0;36m<cell line: 11>\u001b[1;34m()\u001b[0m\n\u001b[0;32m     <a href='vscode-notebook-cell:/c%3A/Users/User/Desktop/python_programs/Assignment_folder/module_3/module_4/Assignment_exercise.ipynb#W3sZmlsZQ%3D%3D?line=11'>12</a>\u001b[0m writer \u001b[39m=\u001b[39m csv\u001b[39m.\u001b[39mwriter(opened_file_ref)\n\u001b[0;32m     <a href='vscode-notebook-cell:/c%3A/Users/User/Desktop/python_programs/Assignment_folder/module_3/module_4/Assignment_exercise.ipynb#W3sZmlsZQ%3D%3D?line=12'>13</a>\u001b[0m \u001b[39mprint\u001b[39m(writer)\n\u001b[1;32m---> <a href='vscode-notebook-cell:/c%3A/Users/User/Desktop/python_programs/Assignment_folder/module_3/module_4/Assignment_exercise.ipynb#W3sZmlsZQ%3D%3D?line=14'>15</a>\u001b[0m \u001b[39mfor\u001b[39;00m Year \u001b[39min\u001b[39;00m writer:\n\u001b[0;32m     <a href='vscode-notebook-cell:/c%3A/Users/User/Desktop/python_programs/Assignment_folder/module_3/module_4/Assignment_exercise.ipynb#W3sZmlsZQ%3D%3D?line=15'>16</a>\u001b[0m     \u001b[39mif\u001b[39;00m Year[\u001b[39m1\u001b[39m] \u001b[39m==\u001b[39m \u001b[39m'\u001b[39m\u001b[39m2022\u001b[39m\u001b[39m'\u001b[39m:\n\u001b[0;32m     <a href='vscode-notebook-cell:/c%3A/Users/User/Desktop/python_programs/Assignment_folder/module_3/module_4/Assignment_exercise.ipynb#W3sZmlsZQ%3D%3D?line=16'>17</a>\u001b[0m         \u001b[39mprint\u001b[39m (Year[\u001b[39m1\u001b[39m] , \u001b[39m'\u001b[39m\u001b[39m2050\u001b[39m\u001b[39m'\u001b[39m)\n",
      "\u001b[1;31mTypeError\u001b[0m: '_csv.writer' object is not iterable"
     ]
    }
   ],
   "source": [
    "import csv  \n",
    "\n",
    "# with open('C:/Users/User/Desktop/netflix.csv',mode='r') as opened_file_ref:\n",
    "#     csvfile=csv.reader(opened_file_ref)\n",
    "#     print(csvfile)\n",
    "\n",
    "#     for Year in csvfile:\n",
    "#         if Year[1] == '2022':\n",
    "#             print (Year[1] , '2050')\n",
    "\n",
    "with open('C:/Users/User/Desktop/netflix.csv', 'w') as opened_file_ref:\n",
    "    writer = csv.writer(opened_file_ref)\n",
    "    print(writer)\n",
    "\n",
    "    for Year in writer:\n",
    "        if Year[1] == '2022':\n",
    "            print (Year[1] , '2050')\n",
    "\n",
    "    # write the header\n",
    "    writer.writerow()\n"
   ]
  },
  {
   "cell_type": "code",
   "execution_count": null,
   "metadata": {},
   "outputs": [],
   "source": []
  }
 ],
 "metadata": {
  "kernelspec": {
   "display_name": "Python 3.10.5 64-bit",
   "language": "python",
   "name": "python3"
  },
  "language_info": {
   "codemirror_mode": {
    "name": "ipython",
    "version": 3
   },
   "file_extension": ".py",
   "mimetype": "text/x-python",
   "name": "python",
   "nbconvert_exporter": "python",
   "pygments_lexer": "ipython3",
   "version": "3.10.5"
  },
  "orig_nbformat": 4,
  "vscode": {
   "interpreter": {
    "hash": "afb734500600fd355917ca529030176ea0ca205570884b88f2f6f7d791fd3fbe"
   }
  }
 },
 "nbformat": 4,
 "nbformat_minor": 2
}
