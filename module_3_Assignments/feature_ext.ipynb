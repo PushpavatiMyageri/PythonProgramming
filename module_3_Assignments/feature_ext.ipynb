{
 "cells": [
  {
   "cell_type": "code",
   "execution_count": 1,
   "metadata": {},
   "outputs": [
    {
     "data": {
      "text/plain": [
       "array(['city=Dubai', 'city=London', 'city=San Francisco', 'temperature'],\n",
       "      dtype=object)"
      ]
     },
     "execution_count": 1,
     "metadata": {},
     "output_type": "execute_result"
    }
   ],
   "source": [
    "import array as array\n",
    "import sklearn\n",
    "measurements = [\n",
    "    {'city': 'Dubai', 'temperature': 33.},\n",
    "    {'city': 'London', 'temperature': 12.},\n",
    "    {'city': 'San Francisco', 'temperature': 18.},\n",
    "    ]\n",
    "\n",
    "from sklearn.feature_extraction import DictVectorizer\n",
    "vec = DictVectorizer()\n",
    "\n",
    "vec.fit_transform(measurements).toarray()\n",
    "# array = ([[ 1.0,  0.0,  0.0, 33.0],\n",
    "#        [ 0.0,  1.0,  0.0, 12.0],\n",
    "#        [ 0.0,  0.0,  1.0, 18.0]])\n",
    "\n",
    "vec.get_feature_names_out()\n",
    "# array = (['city=Dubai', 'city=London', 'city=San Francisco', 'temperature'])"
   ]
  },
  {
   "cell_type": "code",
   "execution_count": 2,
   "metadata": {},
   "outputs": [
    {
     "data": {
      "text/plain": [
       "array([[0., 0., 0., 1., 0.]])"
      ]
     },
     "execution_count": 2,
     "metadata": {},
     "output_type": "execute_result"
    }
   ],
   "source": [
    "movie_entry = [{'category': ['thriller', 'drama'], 'year': 2003},\n",
    "               {'category': ['animation', 'family'], 'year': 2011},\n",
    "               {'year': 1974}]\n",
    "from sklearn.feature_extraction import DictVectorizer\n",
    "vec = DictVectorizer()\n",
    "\n",
    "vec.fit_transform(movie_entry).toarray()\n",
    "# array = ([[0.000e+00, 1.000e+00, 0.000e+00, 1.000e+00, 2.003e+03],\n",
    "#        [1.000e+00, 0.000e+00, 1.000e+00, 0.000e+00, 2.011e+03],\n",
    "#        [0.000e+00, 0.000e+00, 0.000e+00, 0.000e+00, 1.974e+03]])\n",
    "vec.get_feature_names_out()\n",
    "# array = (['category=animation', 'category=drama', 'category=family',\n",
    "#        'category=thriller', 'year'])\n",
    "vec.transform({'category': ['thriller'],'unseen_feature': '3'}).toarray()\n",
    "# array = ([[0., 0., 0., 1., 0.]])"
   ]
  },
  {
   "cell_type": "code",
   "execution_count": 4,
   "metadata": {},
   "outputs": [
    {
     "data": {
      "text/plain": [
       "array(['pos+1=PP', 'pos-1=NN', 'pos-2=DT', 'word+1=on', 'word-1=cat',\n",
       "       'word-2=the'], dtype=object)"
      ]
     },
     "execution_count": 4,
     "metadata": {},
     "output_type": "execute_result"
    }
   ],
   "source": [
    "pos_window = [{\n",
    "    \n",
    "    'word-2': 'the',\n",
    "    'pos-2': 'DT',\n",
    "    'word-1': 'cat',\n",
    "    'pos-1': 'NN',\n",
    "    'word+1': 'on',\n",
    "    'pos+1': 'PP', } ]\n",
    "\n",
    "\n",
    "vec = DictVectorizer()\n",
    "pos_vectorized = vec.fit_transform(pos_window)\n",
    "pos_vectorized\n",
    "pos_vectorized.toarray()\n",
    "# array = ([[1., 1., 1., 1., 1., 1.]])\n",
    "vec.get_feature_names_out()\n",
    "# array = (['pos+1=PP', 'pos-1=NN', 'pos-2=DT', 'word+1=on', 'word-1=cat'])"
   ]
  },
  {
   "cell_type": "code",
   "execution_count": 5,
   "metadata": {},
   "outputs": [],
   "source": [
    "def token_features(token, part_of_speech):\n",
    "    if token.isdigit():\n",
    "        yield \"numeric\"\n",
    "    else:\n",
    "        yield \"token={}\".format(token.lower())\n",
    "        yield \"token,pos={},{}\".format(token, part_of_speech)\n",
    "    if token[0].isupper():\n",
    "        yield \"uppercase_initial\"\n",
    "    if token.isupper():\n",
    "        yield \"all_uppercase\"\n",
    "    yield \"pos={}\".format(part_of_speech)"
   ]
  }
 ],
 "metadata": {
  "kernelspec": {
   "display_name": "Python 3.10.5 64-bit",
   "language": "python",
   "name": "python3"
  },
  "language_info": {
   "codemirror_mode": {
    "name": "ipython",
    "version": 3
   },
   "file_extension": ".py",
   "mimetype": "text/x-python",
   "name": "python",
   "nbconvert_exporter": "python",
   "pygments_lexer": "ipython3",
   "version": "3.10.5"
  },
  "orig_nbformat": 4,
  "vscode": {
   "interpreter": {
    "hash": "afb734500600fd355917ca529030176ea0ca205570884b88f2f6f7d791fd3fbe"
   }
  }
 },
 "nbformat": 4,
 "nbformat_minor": 2
}
